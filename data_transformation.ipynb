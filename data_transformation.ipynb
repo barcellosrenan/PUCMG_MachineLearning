{
 "cells": [
  {
   "cell_type": "code",
   "execution_count": 16,
   "metadata": {},
   "outputs": [],
   "source": [
    "import pandas as pd"
   ]
  },
  {
   "cell_type": "code",
   "execution_count": 17,
   "metadata": {},
   "outputs": [],
   "source": [
    "# Converter colunas de data para formato datetime\n",
    "def convertion (df_list):\n",
    "    for i, data in enumerate(df_list):\n",
    "        data['trip_creation_time'] = pd.to_datetime(data['trip_creation_time'].str.split('.').str[0])\n",
    "        data['od_start_time'] = pd.to_datetime(data['od_start_time'].str.split('.').str[0])\n",
    "        data['od_end_time'] = pd.to_datetime(data['od_end_time'].str.split('.').str[0])\n",
    "        data['cutoff_timestamp'] = pd.to_datetime(data['cutoff_timestamp'].str.split('.').str[0])\n",
    "\n",
    "        data['trip_duration'] = (data['od_end_time'] - data['od_start_time']).dt.total_seconds() / 60\n",
    "        data['time_to_cutoff'] = (data['cutoff_timestamp'] - data['trip_creation_time']).dt.total_seconds() / 60\n",
    "\n",
    "        data.drop(['trip_uuid', 'route_schedule_uuid'], axis=1, inplace=True)\n",
    "\n",
    "        match i:\n",
    "            case 0:\n",
    "                data.to_csv('data/transformed/delhivery_converted.csv')\n",
    "            case 1: \n",
    "                data.to_csv('data/transformed/delhivery_converted_IQR.csv')\n",
    "            case 2:\n",
    "                data.to_csv('data/transformed/delhivery_converted_IQR_LOG.csv')\n"
   ]
  },
  {
   "cell_type": "code",
   "execution_count": 18,
   "metadata": {},
   "outputs": [],
   "source": [
    "df_raw = pd.read_csv('data/raw/delhivery.csv')\n",
    "df_IQR = pd.read_csv('data/cleaned/delhivery_IQR.csv')\n",
    "df_IQR_Log = pd.read_csv('data/cleaned/delhivery_IQR_LOG.csv')\n",
    "\n",
    "convertion([df_raw, df_IQR, df_IQR_Log])"
   ]
  }
 ],
 "metadata": {
  "kernelspec": {
   "display_name": "venv",
   "language": "python",
   "name": "python3"
  },
  "language_info": {
   "codemirror_mode": {
    "name": "ipython",
    "version": 3
   },
   "file_extension": ".py",
   "mimetype": "text/x-python",
   "name": "python",
   "nbconvert_exporter": "python",
   "pygments_lexer": "ipython3",
   "version": "3.11.5"
  }
 },
 "nbformat": 4,
 "nbformat_minor": 2
}
